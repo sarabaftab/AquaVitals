{
 "cells": [
  {
   "cell_type": "code",
   "execution_count": null,
   "id": "f312227b-992d-455d-beff-1f4eca82efb4",
   "metadata": {},
   "outputs": [
    {
     "name": "stdout",
     "output_type": "stream",
     "text": [
      "Cleaned file saved as 'cleaned_fish_data.csv'\n"
     ]
    }
   ],
   "source": [
    "import pandas as pd\n",
    "\n",
    "file_path = \"data.csv\"  \n",
    "df = pd.read_csv(file_path)\n",
    "\n",
    "#columns to extract\n",
    "columns_to_keep = [\n",
    "    \"Date\", \"Month\", \"Day\", \"Year\", \"Week\",\n",
    "    \"AM Feed\", \"PM Feed\", \"AM Transparency\", \"PM Transparency\",\n",
    "    \"Spring Temp (F)\", \"Dec Rain\", \"Calmar Rain\",\n",
    "    \"Year class\", \"Strain\", \"Lot\", \"Raceway\", \"# fish\"\n",
    "]\n",
    "\n",
    "df_extracted = df[columns_to_keep]\n",
    "\n",
    "df_extracted.to_csv(\"cleaned_fish_data.csv\", index=False)\n",
    "\n",
    "print(\"Cleaned file saved as 'cleaned_fish_data.csv'\")"
   ]
  }
 ],
 "metadata": {
  "kernelspec": {
   "display_name": "Python 3",
   "language": "python",
   "name": "python3"
  },
  "language_info": {
   "codemirror_mode": {
    "name": "ipython",
    "version": 3
   },
   "file_extension": ".py",
   "mimetype": "text/x-python",
   "name": "python",
   "nbconvert_exporter": "python",
   "pygments_lexer": "ipython3",
   "version": "3.10.11"
  }
 },
 "nbformat": 4,
 "nbformat_minor": 5
}
