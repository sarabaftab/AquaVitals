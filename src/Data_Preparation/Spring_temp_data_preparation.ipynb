{
 "cells": [
  {
   "cell_type": "code",
   "execution_count": 10,
   "metadata": {},
   "outputs": [],
   "source": [
    "import pandas as pd\n",
    "import numpy as np\n",
    "\n",
    "from sklearn.pipeline import Pipeline\n",
    "from sklearn.preprocessing import StandardScaler, OneHotEncoder\n",
    "from sklearn.compose import ColumnTransformer\n",
    "from sklearn.impute import SimpleImputer\n",
    "from sklearn.impute import KNNImputer\n"
   ]
  },
  {
   "cell_type": "code",
   "execution_count": 11,
   "metadata": {},
   "outputs": [],
   "source": [
    "def load_spring_temp_data():\n",
    "    def get_season(month):\n",
    "        if month in [12, 1, 2]:\n",
    "            return \"Winter\"\n",
    "        elif month in [3, 4, 5]:\n",
    "            return \"Spring\"\n",
    "        elif month in [6, 7, 8]:\n",
    "            return \"Summer\"\n",
    "        else:\n",
    "            return \"Fall\"\n",
    "\n",
    "    df = pd.read_excel(\"../../Data/Raw/Main_Data_edited.xlsx\")\n",
    "    df[\"Date\"] = pd.to_datetime(df[\"Date\"])\n",
    "    df = df.sort_values(\"Date\")\n",
    "\n",
    "    # ✅ Drop rows where Spring Temp is missing\n",
    "    df = df.dropna(subset=[\"Spring Temp (F)\"])\n",
    "\n",
    "    # Feed imputation (categorical)\n",
    "    df[\"AM Feed\"] = df[\"AM Feed\"].fillna(\"X\")\n",
    "    df[\"PM Feed\"] = df[\"PM Feed\"].fillna(\"X\")\n",
    "\n",
    "    # Feature engineering\n",
    "    df[\"Season\"] = df[\"Month\"].apply(get_season)\n",
    "    df[\"Max Air Temp x Rain\"] = df[\"Max air temp\"] * (df[\"Dec Rain\"] + df[\"Calmar Rain\"])\n",
    "    df[\"Total Rain\"] = df[\"Dec Rain\"] + df[\"Calmar Rain\"]\n",
    "    df[\"Day of Year\"] = df[\"Date\"].dt.dayofyear\n",
    "\n",
    "    df[\"Year class\"] = pd.to_numeric(df[\"Year class\"], errors=\"coerce\")\n",
    "    df[\"Year\"] = pd.to_numeric(df[\"Year\"], errors=\"coerce\")\n",
    "    df[\"Fish Age\"] = df[\"Year\"] - df[\"Year class\"]\n",
    "\n",
    "    return df\n"
   ]
  },
  {
   "cell_type": "code",
   "execution_count": 12,
   "metadata": {},
   "outputs": [],
   "source": [
    "# === Preprocessing Pipeline ===\n",
    "def create_spring_temp_pipeline():\n",
    "    numerical_features = [\n",
    "        \"Max air temp\", \"Min air temp\", \"Dec Rain\", \"Calmar Rain\",\n",
    "        \"Max Air Temp x Rain\", \"Total Rain\", \n",
    "    ]\n",
    "\n",
    "    categorical_features = [\"Season\"]\n",
    "\n",
    "    num_transformer = Pipeline([\n",
    "        (\"imputer\", SimpleImputer(strategy=\"median\")),\n",
    "        (\"scaler\", StandardScaler())\n",
    "    ])\n",
    "\n",
    "    cat_transformer = Pipeline([\n",
    "        (\"onehot\", OneHotEncoder(handle_unknown=\"ignore\"))\n",
    "    ])\n",
    "\n",
    "    preprocessor = ColumnTransformer([\n",
    "        (\"num\", num_transformer, numerical_features),\n",
    "        (\"cat\", cat_transformer, categorical_features)\n",
    "    ])\n",
    "\n",
    "    return Pipeline([(\"preprocessor\", preprocessor)])\n",
    "\n",
    "def split_spring_temp_data(df, ratios):\n",
    "    df = df.sample(frac=1, random_state=42)\n",
    "\n",
    "    features = [\n",
    "        \"Max air temp\", \"Min air temp\", \"Dec Rain\", \"Calmar Rain\", \"Season\",\n",
    "        \"Max Air Temp x Rain\", \"Total Rain\",\n",
    "    ]\n",
    "\n",
    "    df = df.dropna(subset=features + [\"Spring Temp (F)\"])\n",
    "\n",
    "    X = df[features]\n",
    "    y = df[\"Spring Temp (F)\"]\n",
    "\n",
    "    dev_ratio, test_ratio = ratios\n",
    "    total_len = len(X)\n",
    "    dev_size = int(dev_ratio * total_len)\n",
    "    test_size = int(test_ratio * total_len)\n",
    "\n",
    "    X_train = X[:-(dev_size + test_size)]\n",
    "    y_train = y[:-(dev_size + test_size)]\n",
    "\n",
    "    X_dev = X[-(dev_size + test_size):-test_size]\n",
    "    y_dev = y[-(dev_size + test_size):-test_size]\n",
    "\n",
    "    X_test = X[-test_size:]\n",
    "    y_test = y[-test_size:]\n",
    "\n",
    "    return X_train, X_dev, X_test, y_train, y_dev, y_test"
   ]
  },
  {
   "cell_type": "code",
   "execution_count": 13,
   "metadata": {},
   "outputs": [],
   "source": [
    "# === Convenience Loader ===\n",
    "def prepare_spring_temp_data(ratios=(0.1, 0.1)):\n",
    "    df = load_spring_temp_data()\n",
    "    return split_spring_temp_data(df, ratios)"
   ]
  },
  {
   "cell_type": "code",
   "execution_count": null,
   "metadata": {},
   "outputs": [],
   "source": []
  },
  {
   "cell_type": "code",
   "execution_count": null,
   "metadata": {},
   "outputs": [],
   "source": []
  }
 ],
 "metadata": {
  "kernelspec": {
   "display_name": "Python 3",
   "language": "python",
   "name": "python3"
  },
  "language_info": {
   "codemirror_mode": {
    "name": "ipython",
    "version": 3
   },
   "file_extension": ".py",
   "mimetype": "text/x-python",
   "name": "python",
   "nbconvert_exporter": "python",
   "pygments_lexer": "ipython3",
   "version": "3.11.2"
  }
 },
 "nbformat": 4,
 "nbformat_minor": 2
}
