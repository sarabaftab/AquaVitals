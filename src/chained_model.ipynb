{
 "cells": [
  {
   "cell_type": "code",
   "execution_count": 15,
   "metadata": {},
   "outputs": [],
   "source": [
    "import pandas as pd\n",
    "import numpy as np\n",
    "from joblib import load\n",
    "import os"
   ]
  },
  {
   "cell_type": "code",
   "execution_count": 16,
   "metadata": {},
   "outputs": [
    {
     "name": "stdout",
     "output_type": "stream",
     "text": [
      "✅ All models loaded (with pipelines)\n"
     ]
    }
   ],
   "source": [
    "# Load trained model\n",
    "models_dir = os.path.join(\"../\", \"src\", \"models\")\n",
    "spring_temp_model = load(os.path.join(models_dir, \"spring_temp_model.joblib\"))\n",
    "am_model = load(os.path.join(models_dir, \"am_transparency_model.joblib\"))\n",
    "pm_model = load(os.path.join(models_dir, \"pm_transparency_model.joblib\"))\n",
    "fish_model = load(os.path.join(models_dir, \"fish_survial_model.joblib\"))\n",
    "print(\"✅ All models loaded (with pipelines)\")\n"
   ]
  },
  {
   "cell_type": "code",
   "execution_count": 17,
   "metadata": {},
   "outputs": [],
   "source": [
    "# === Step 1: Input data (sample) ===\n",
    "X_input = pd.DataFrame([{\n",
    "    \"Max air temp\": 69,\n",
    "    \"Min air temp\": 44,\n",
    "    \"Dec Rain\": 0.5,\n",
    "    \"Calmar Rain\": 0.5,\n",
    "    \"Season\": \"Spring\",\n",
    "    \"Day of Year\": 120,\n",
    "    \"Fish Age\": 1.5,\n",
    "    \"Max Air Temp x Rain\": 67 * (0.2 + 0.1),\n",
    "    \"Total Rain\": 0.2 + 0.1,\n",
    "    \"Dec Rain (Lag 3)\": 0.25,\n",
    "    \"Calmar Rain (Lag 3)\": 0.15,\n",
    "    \"Max air temp (Lag 3)\": 65,\n",
    "    \"Dec Rain 7-day avg\": 0.3,\n",
    "    \"Calmar Rain 7-day avg\": 0.2,\n",
    "    \"Max air temp 7-day avg\": 66,\n",
    "    \"# fish\": 30000  \n",
    "\n",
    "}])"
   ]
  },
  {
   "cell_type": "code",
   "execution_count": 18,
   "metadata": {},
   "outputs": [
    {
     "name": "stdout",
     "output_type": "stream",
     "text": [
      "\n",
      "🌡️ Predicted Spring Temp (F): 49.57\n",
      "💧 Predicted AM Transparency: 5.57\n",
      "💧 Predicted PM Transparency: 11.45\n",
      "\n",
      "🐟 Predicted Fish Survival Rate: 99.95\n"
     ]
    }
   ],
   "source": [
    "# === Step 2: Predict Spring Temp ===\n",
    "spring_temp = spring_temp_model.predict(X_input)[0]\n",
    "print(f\"\\n🌡️ Predicted Spring Temp (F): {spring_temp:.2f}\")\n",
    "\n",
    "# Add Spring Temp output to input\n",
    "X_input[\"Spring Temp (F)\"] = spring_temp\n",
    "X_input[\"Spring_Temp x Rain\"] = spring_temp * (X_input[\"Dec Rain\"] + X_input[\"Calmar Rain\"])\n",
    "X_input[\"Spring Temp (F) (Lag 3)\"] = spring_temp - 1.0\n",
    "X_input[\"Spring Temp (F) 7-day avg\"] = spring_temp - 0.3\n",
    "\n",
    "# === Step 3: Predict AM Transparency ===\n",
    "am_transparency = am_model.predict(X_input)[0]\n",
    "print(f\"💧 Predicted AM Transparency: {am_transparency:.2f}\")\n",
    "X_input[\"AM Transparency\"] = am_transparency\n",
    "\n",
    "# === Step 4: Predict PM Transparency ===\n",
    "pm_transparency = pm_model.predict(X_input)[0]\n",
    "print(f\"💧 Predicted PM Transparency: {pm_transparency:.2f}\")\n",
    "X_input[\"PM Transparency\"] = pm_transparency\n",
    "\n",
    "# Add all remaining expected fish model features\n",
    "X_input[\"AM Feed\"] = \"X\"\n",
    "X_input[\"PM Feed\"] = \"X\"\n",
    "X_input[\"AM Transparency (Lag 3)\"] = am_transparency - 0.5\n",
    "X_input[\"PM Transparency (Lag 3)\"] = pm_transparency - 0.5\n",
    "X_input[\"AM Transparency 7-day avg\"] = am_transparency - 0.3\n",
    "X_input[\"PM Transparency 7-day avg\"] = pm_transparency - 0.3\n",
    "\n",
    "\n",
    "# === Step 5: Predict Fish Survival ===\n",
    "fish_survival = fish_model.predict(X_input)[0]\n",
    "print(f\"\\n🐟 Predicted Fish Survival Rate: {fish_survival:.2f}\")"
   ]
  },
  {
   "cell_type": "code",
   "execution_count": 20,
   "metadata": {},
   "outputs": [],
   "source": [
    "models_dir = os.path.join(\"../\", \"src\", \"models\")\n",
    "spring_temp_model = load(os.path.join(models_dir, \"spring_temp_model.joblib\"))"
   ]
  },
  {
   "cell_type": "code",
   "execution_count": 21,
   "metadata": {},
   "outputs": [
    {
     "data": {
      "text/plain": [
       "sklearn.pipeline.Pipeline"
      ]
     },
     "execution_count": 21,
     "metadata": {},
     "output_type": "execute_result"
    }
   ],
   "source": [
    "type(spring_temp_model)\n"
   ]
  },
  {
   "cell_type": "code",
   "execution_count": 24,
   "metadata": {},
   "outputs": [
    {
     "name": "stdout",
     "output_type": "stream",
     "text": [
      "['num__Max air temp' 'num__Min air temp' 'num__Dec Rain'\n",
      " 'num__Calmar Rain' 'num__Max Air Temp x Rain' 'num__Total Rain'\n",
      " 'cat__Season_Fall' 'cat__Season_Spring' 'cat__Season_Summer'\n",
      " 'cat__Season_Winter']\n"
     ]
    }
   ],
   "source": [
    "features = spring_temp_model.named_steps[\"preprocessor\"].get_feature_names_out()\n",
    "print(features)"
   ]
  },
  {
   "cell_type": "code",
   "execution_count": null,
   "metadata": {},
   "outputs": [],
   "source": []
  }
 ],
 "metadata": {
  "kernelspec": {
   "display_name": "Python 3",
   "language": "python",
   "name": "python3"
  },
  "language_info": {
   "codemirror_mode": {
    "name": "ipython",
    "version": 3
   },
   "file_extension": ".py",
   "mimetype": "text/x-python",
   "name": "python",
   "nbconvert_exporter": "python",
   "pygments_lexer": "ipython3",
   "version": "3.11.2"
  }
 },
 "nbformat": 4,
 "nbformat_minor": 2
}
