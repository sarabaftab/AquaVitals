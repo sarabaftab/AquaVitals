{
 "cells": [
  {
   "cell_type": "code",
   "execution_count": 40,
   "metadata": {},
   "outputs": [],
   "source": [
    "import pandas as pd\n",
    "import numpy as np\n",
    "\n",
    "from sklearn.pipeline import Pipeline\n",
    "from sklearn.preprocessing import StandardScaler, OneHotEncoder\n",
    "from sklearn.compose import ColumnTransformer\n",
    "from sklearn.impute import SimpleImputer\n",
    "from sklearn.impute import KNNImputer"
   ]
  },
  {
   "cell_type": "code",
   "execution_count": 41,
   "metadata": {},
   "outputs": [],
   "source": [
    "def load_fish_data():\n",
    "    \"\"\"\n",
    "    Loads fish data from a specified local Excel file\n",
    "\n",
    "    Returns:\n",
    "    pd.DataFrame: DataFrame containing the fish data.\n",
    "    \"\"\"\n",
    "    # Determine file type and read accordingly\n",
    "    \n",
    "    df = pd.read_excel(\"../Data/Raw/Main_Data_edited.xlsx\")  # Specify the sheet\n",
    "\n",
    "\n",
    "    return df"
   ]
  },
  {
   "cell_type": "code",
   "execution_count": 42,
   "metadata": {},
   "outputs": [],
   "source": [
    "# selected_columns = [\"Date\", \"Month\",\"Day\", \"Year\", \"AM Feed\", \"AM Transparency\", \"PM Feed\", \"PM Transparency\",\"Stocked\", \"Spring Temp (F)\", \"Morts\", \"# fish\", \"Dec Rain\", \"Calmar Rain\", \"Strain\", \"Lot\", \"Sub Lot\", \"Raceway\", \"# fish\",\"Morts\", \"Fish Alive\", \"Fish survival rate\"]\n",
    "# new_df = df[selected_columns]\n"
   ]
  },
  {
   "cell_type": "markdown",
   "metadata": {},
   "source": [
    "### Y will be Fish Survival Rate (%) = Formula: (fish alive / # fish) * 100\n",
    "### X will be the other values in the new_df. You can add or remove some valeus if you like."
   ]
  },
  {
   "cell_type": "code",
   "execution_count": 43,
   "metadata": {},
   "outputs": [],
   "source": [
    "def create_fish_pipeline():\n",
    "    \"\"\"\n",
    "    Creates a preprocessing pipeline for fish hatchery data.\n",
    "    \"\"\"\n",
    "    numerical_features = [\n",
    "        \"Spring Temp (F)\", \"Max air temp\",\n",
    "        \"Min air temp\", \"Dec Rain\", \"Calmar Rain\", \"# fish\", \"Fish Alive\"\n",
    "    ]\n",
    "\n",
    "    morts_feature = [\"Morts\"]  # Handle separately\n",
    "\n",
    "\n",
    "    transparency_features = [\"AM Transparency\", \"PM Transparency\"]\n",
    "    categorical_features = [\"Strain\", \"Lot\", \"Raceway\", \"AM Feed\", \"PM Feed\"]\n",
    "\n",
    "    # Numeric transformer\n",
    "    num_transformer = Pipeline(steps=[\n",
    "        (\"imputer\", SimpleImputer(strategy=\"median\")),\n",
    "        (\"scaler\", StandardScaler())\n",
    "    ])\n",
    "\n",
    "    # Morts transformer (fill with 0)\n",
    "    morts_transformer = Pipeline(steps=[\n",
    "        (\"imputer\", SimpleImputer(strategy=\"constant\", fill_value=0)),\n",
    "        (\"scaler\", StandardScaler())\n",
    "    ])\n",
    "\n",
    "    # KNN imputation for transparency columns\n",
    "    transparency_transformer = Pipeline(steps=[\n",
    "        (\"imputer\", KNNImputer(n_neighbors=5))\n",
    "    ])\n",
    "\n",
    "    # Categorical transformer\n",
    "    cat_transformer = Pipeline(steps=[\n",
    "        (\"imputer\", SimpleImputer(strategy=\"most_frequent\")),\n",
    "        (\"onehot\", OneHotEncoder(handle_unknown=\"ignore\"))\n",
    "    ])\n",
    "\n",
    "    preprocessor = ColumnTransformer(transformers=[\n",
    "        (\"morts\", morts_transformer, morts_feature),\n",
    "        (\"num\", num_transformer, numerical_features),\n",
    "        (\"transparency\", transparency_transformer, transparency_features),\n",
    "        (\"cat\", cat_transformer, categorical_features),\n",
    "    ])\n",
    "\n",
    "    # Final pipeline\n",
    "    pipeline = Pipeline(steps=[(\"preprocessor\", preprocessor)])\n",
    "\n",
    "    return pipeline\n",
    "\n",
    "\n",
    "def split_fish_data(df, ratios):\n",
    "    \"\"\"\n",
    "    Splits fish data into training, dev, and test sets.\n",
    "    \"\"\"\n",
    "    df = df.sample(frac=1, random_state=42)\n",
    "\n",
    "    selected_features = [\"Date\", \"Month\",\"Day\", \"Year\", \"AM Feed\", \"AM Transparency\", \"PM Feed\", \"PM Transparency\", \"Spring Temp (F)\", \"Morts\", \"# fish\", \"Dec Rain\", \"Max air temp\", \"Min air temp\", \"Calmar Rain\", \"Strain\", \"Lot\", \"Sub Lot\", \"Raceway\", \"Fish Alive\", \"Fish survival rate\"]\n",
    "\n",
    "    X = df[selected_features]\n",
    "    y = df[\"Fish survival rate\"]\n",
    "\n",
    "    dev_ratio, test_ratio = ratios\n",
    "    dev_size = int(dev_ratio * len(X))\n",
    "    test_size = int(test_ratio * len(X))\n",
    "\n",
    "    X_train = X[:-(dev_size + test_size)]\n",
    "    y_train = y[:-(dev_size + test_size)]\n",
    "\n",
    "    X_dev = X[-(dev_size + test_size):-test_size]\n",
    "    y_dev = y[-(dev_size + test_size):-test_size]\n",
    "\n",
    "    X_test = X[-test_size:]\n",
    "    y_test = y[-test_size:]\n",
    "\n",
    "    return X_train, X_dev, X_test, y_train, y_dev, y_test\n"
   ]
  },
  {
   "cell_type": "code",
   "execution_count": 44,
   "metadata": {},
   "outputs": [],
   "source": [
    "def prepare_fish_data(ratios):\n",
    "    fish_data = load_fish_data()\n",
    "    return split_fish_data(fish_data, ratios)"
   ]
  },
  {
   "cell_type": "code",
   "execution_count": null,
   "metadata": {},
   "outputs": [],
   "source": []
  },
  {
   "cell_type": "markdown",
   "metadata": {},
   "source": []
  },
  {
   "cell_type": "markdown",
   "metadata": {},
   "source": []
  }
 ],
 "metadata": {
  "kernelspec": {
   "display_name": "Python 3",
   "language": "python",
   "name": "python3"
  },
  "language_info": {
   "codemirror_mode": {
    "name": "ipython",
    "version": 3
   },
   "file_extension": ".py",
   "mimetype": "text/x-python",
   "name": "python",
   "nbconvert_exporter": "python",
   "pygments_lexer": "ipython3",
   "version": "3.11.2"
  }
 },
 "nbformat": 4,
 "nbformat_minor": 2
}
